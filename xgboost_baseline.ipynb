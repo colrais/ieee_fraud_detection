{
 "cells": [
  {
   "cell_type": "markdown",
   "metadata": {},
   "source": [
    "# Imports"
   ]
  },
  {
   "cell_type": "code",
   "execution_count": 1,
   "metadata": {
    "ExecuteTime": {
     "end_time": "2019-08-21T23:33:34.990644Z",
     "start_time": "2019-08-21T23:33:32.696706Z"
    }
   },
   "outputs": [],
   "source": [
    "### Data Manipulation\n",
    "import pandas as pd\n",
    "import numpy as np\n",
    "\n",
    "pd.set_option('display.max_rows', 500)\n",
    "pd.set_option('display.max_columns', 500)\n",
    "pd.set_option('display.width', 1000)\n",
    "\n",
    "### Cell output display -- all\n",
    "from IPython.core.interactiveshell import InteractiveShell\n",
    "InteractiveShell.ast_node_interactivity = 'all'\n",
    "\n",
    "from IPython import get_ipython\n",
    "ipython = get_ipython()\n",
    "\n",
    "### Ignore exceptions\n",
    "import expectexception\n",
    "\n",
    "### Modeling libraries\n",
    "import xgboost as xgb\n",
    "import category_encoders as ce\n",
    "from sklearn.model_selection import TimeSeriesSplit\n",
    "from hyperopt import hp, tpe, fmin, Trials"
   ]
  },
  {
   "cell_type": "markdown",
   "metadata": {},
   "source": [
    "# Data"
   ]
  },
  {
   "cell_type": "code",
   "execution_count": 2,
   "metadata": {
    "ExecuteTime": {
     "end_time": "2019-08-21T23:34:22.055048Z",
     "start_time": "2019-08-21T23:33:34.992628Z"
    }
   },
   "outputs": [],
   "source": [
    "train_tr = pd.read_csv('./data/train_transaction.csv')\n",
    "train_id = pd.read_csv('./data/train_identity.csv')\n",
    "test_tr = pd.read_csv('./data/test_transaction.csv')\n",
    "test_id = pd.read_csv('./data/test_identity.csv')"
   ]
  },
  {
   "cell_type": "code",
   "execution_count": 3,
   "metadata": {
    "ExecuteTime": {
     "end_time": "2019-08-21T23:35:35.831199Z",
     "start_time": "2019-08-21T23:34:22.060379Z"
    }
   },
   "outputs": [],
   "source": [
    "tr_raw = pd.merge(train_tr, train_id, how='left')\n",
    "test_raw = pd.merge(test_tr, test_id, how='left')\n",
    "\n",
    "target = tr_raw['isFraud']\n",
    "train = tr_raw.copy().drop('isFraud', axis=1)\n",
    "test = test_raw.copy()\n",
    "data = pd.concat([train, test])"
   ]
  },
  {
   "cell_type": "code",
   "execution_count": 4,
   "metadata": {
    "ExecuteTime": {
     "end_time": "2019-08-21T23:35:35.894913Z",
     "start_time": "2019-08-21T23:35:35.846763Z"
    }
   },
   "outputs": [],
   "source": [
    "def paste0(string, start, end):\n",
    "    return list(map(lambda x: ''.join(x), zip([string]*(end - start + 1), map(str, range(start, end + 1)))))\n",
    "\n",
    "cards = paste0('card', 1, 6)\n",
    "Ms = paste0('M', 1, 9)\n",
    "ids = paste0('id_', 12, 38)\n",
    "\n",
    "cat_tr = ['ProductCD', 'addr1', 'addr2', 'P_emaildomain', 'R_emaildomain'] + cards + Ms\n",
    "cat_id = ['DeviceType', 'DeviceInfo'] + ids"
   ]
  },
  {
   "cell_type": "markdown",
   "metadata": {},
   "source": [
    "# Feature Engineering"
   ]
  },
  {
   "cell_type": "code",
   "execution_count": 5,
   "metadata": {
    "ExecuteTime": {
     "end_time": "2019-08-21T23:40:58.539205Z",
     "start_time": "2019-08-21T23:35:35.901229Z"
    }
   },
   "outputs": [],
   "source": [
    "train['weekday'] = np.floor((train['TransactionDT'] / (3600 * 24) - 1) % 7)\n",
    "test['weekday'] = np.floor((test['TransactionDT'] / (3600 * 24) - 1) % 7)\n",
    "train['hour'] = np.floor(train['TransactionDT'] / 3600) % 24\n",
    "test['hour'] = np.floor(test['TransactionDT'] / 3600) % 24\n",
    "\n",
    "def domains_process(row): \n",
    "    if pd.isnull(row['P_emaildomain']) and pd.isnull(row['R_emaildomain']):\n",
    "        return \"Both_Missing\"\n",
    "    elif pd.isnull(row['P_emaildomain']):\n",
    "        return \"P_Missing\"\n",
    "    elif pd.isnull(row['R_emaildomain']):\n",
    "        return \"R_Missing\"\n",
    "    elif row['P_emaildomain'] == row['R_emaildomain']:\n",
    "        return(\"Same_Emails\")\n",
    "    else:\n",
    "        return(\"Different_Emails\")\n",
    "\n",
    "train['email_status'] = train.apply(domains_process, axis=1)\n",
    "test['email_status'] = test.apply(domains_process, axis=1)"
   ]
  },
  {
   "cell_type": "markdown",
   "metadata": {},
   "source": [
    "# Encodings"
   ]
  },
  {
   "cell_type": "code",
   "execution_count": 6,
   "metadata": {
    "ExecuteTime": {
     "end_time": "2019-08-21T23:40:58.649571Z",
     "start_time": "2019-08-21T23:40:58.569199Z"
    }
   },
   "outputs": [],
   "source": [
    "from pandas.api.types import is_string_dtype\n",
    "\n",
    "### extract string columns for encoding\n",
    "def str_cols(in_df):\n",
    "    df = in_df.copy()\n",
    "    return [col for col in df.columns if is_string_dtype(df[col])]\n",
    "\n",
    "### classify label-encoded vs target-encoded columns via brute rule\n",
    "def encodings(in_df, cols):\n",
    "    df = in_df.copy()\n",
    "    labels = [col for col in cols if df[col].nunique() == 2]\n",
    "    one_hot = [col for col in cols if df[col].nunique() > 2 and df[col].nunique() < 10]\n",
    "    targets = [col for col in cols if df[col].nunique() > 10]\n",
    "    return one_hot, labels, targets"
   ]
  },
  {
   "cell_type": "code",
   "execution_count": 7,
   "metadata": {
    "ExecuteTime": {
     "end_time": "2019-08-21T23:41:52.965523Z",
     "start_time": "2019-08-21T23:40:58.663870Z"
    }
   },
   "outputs": [],
   "source": [
    "string_columns = str_cols(data)\n",
    "one_hot, labels, targets = encodings(data, string_columns)"
   ]
  },
  {
   "cell_type": "code",
   "execution_count": 8,
   "metadata": {
    "ExecuteTime": {
     "end_time": "2019-08-21T23:42:08.285752Z",
     "start_time": "2019-08-21T23:41:52.981415Z"
    },
    "scrolled": false
   },
   "outputs": [],
   "source": [
    "### Label encoding \n",
    "data_labels = data[labels]\n",
    "ce_ord = ce.OrdinalEncoder(cols=labels, impute_missing=False)\n",
    "data[labels] = ce_ord.fit_transform(data_labels)"
   ]
  },
  {
   "cell_type": "code",
   "execution_count": 9,
   "metadata": {
    "ExecuteTime": {
     "end_time": "2019-08-21T23:44:18.774986Z",
     "start_time": "2019-08-21T23:42:08.289466Z"
    }
   },
   "outputs": [
    {
     "name": "stderr",
     "output_type": "stream",
     "text": [
      "/Users/jng/anaconda3/lib/python3.7/site-packages/pandas/core/frame.py:3489: SettingWithCopyWarning: \n",
      "A value is trying to be set on a copy of a slice from a DataFrame.\n",
      "Try using .loc[row_indexer,col_indexer] = value instead\n",
      "\n",
      "See the caveats in the documentation: http://pandas.pydata.org/pandas-docs/stable/user_guide/indexing.html#returning-a-view-versus-a-copy\n",
      "  self[k1] = value[k2]\n"
     ]
    }
   ],
   "source": [
    "### Leave-one-out target encoding\n",
    "training_rows = train.shape[0]\n",
    "train_split = data.iloc[range(training_rows), :]\n",
    "test_split = data.iloc[training_rows::, :]\n",
    "\n",
    "training_targets = train_split[targets]\n",
    "testing_targets = test_split[targets]\n",
    "\n",
    "ce_LOO = ce.LeaveOneOutEncoder(cols=targets, impute_missing=False, handle_unknown='value', sigma=0.05)\n",
    "train_split[targets] = ce_LOO.fit_transform(training_targets, target)\n",
    "test_split[targets] = ce_LOO.transform(testing_targets)"
   ]
  },
  {
   "cell_type": "code",
   "execution_count": 10,
   "metadata": {
    "ExecuteTime": {
     "end_time": "2019-08-21T23:44:34.272126Z",
     "start_time": "2019-08-21T23:44:18.786895Z"
    }
   },
   "outputs": [
    {
     "name": "stderr",
     "output_type": "stream",
     "text": [
      "/Users/jng/anaconda3/lib/python3.7/site-packages/ipykernel_launcher.py:24: SettingWithCopyWarning: \n",
      "A value is trying to be set on a copy of a slice from a DataFrame\n",
      "\n",
      "See the caveats in the documentation: http://pandas.pydata.org/pandas-docs/stable/user_guide/indexing.html#returning-a-view-versus-a-copy\n",
      "/Users/jng/anaconda3/lib/python3.7/site-packages/pandas/core/series.py:1288: SettingWithCopyWarning: \n",
      "A value is trying to be set on a copy of a slice from a DataFrame\n",
      "\n",
      "See the caveats in the documentation: http://pandas.pydata.org/pandas-docs/stable/user_guide/indexing.html#returning-a-view-versus-a-copy\n",
      "  self._set_labels(key, value)\n",
      "/Users/jng/anaconda3/lib/python3.7/site-packages/IPython/core/interactiveshell.py:3326: SettingWithCopyWarning: \n",
      "A value is trying to be set on a copy of a slice from a DataFrame\n",
      "\n",
      "See the caveats in the documentation: http://pandas.pydata.org/pandas-docs/stable/user_guide/indexing.html#returning-a-view-versus-a-copy\n",
      "  exec(code_obj, self.user_global_ns, self.user_ns)\n"
     ]
    }
   ],
   "source": [
    "from itertools import compress\n",
    "\n",
    "### 'handle_unknown' arg in LOO encoder does not work\n",
    "### manual handling of mismatched test_split values turned into NaNs\n",
    "\n",
    "### initialise reference dataframe\n",
    "temp = data.iloc[training_rows::, :]\n",
    "\n",
    "### create mask to identify unequal NaN columns\n",
    "mismatched = test_split[targets].isnull().sum() != temp[targets].isnull().sum()\n",
    "\n",
    "### impute mismatched row values\n",
    "for col in mismatched[mismatched == 1].index:\n",
    "    mismatched_row = test_split[col].isnull() != temp[col].isnull()\n",
    "    \n",
    "    ### identify mismatched indices\n",
    "    row_ids = list(compress(range(len(mismatched_row.values)), mismatched_row))\n",
    "    \n",
    "    ### compute mean of the mean of the column\n",
    "    mean_mean = train_split[col].sum()/train_split[col].count()\n",
    "#     impute = [mean_mean] * len(row_ids)\n",
    "    \n",
    "    ### impute mean of the mean into NaN ids\n",
    "    test_split[col][row_ids] = mean_mean\n",
    "\n",
    "    ### check null length against reference column\n",
    "    if (test_split[col].isnull().sum() != temp[col].isnull().sum()):\n",
    "        print('{} still not equal!'.format(col))"
   ]
  },
  {
   "cell_type": "code",
   "execution_count": 11,
   "metadata": {
    "ExecuteTime": {
     "end_time": "2019-08-21T23:46:47.680277Z",
     "start_time": "2019-08-21T23:44:34.288147Z"
    }
   },
   "outputs": [],
   "source": [
    "### One Hot encoding\n",
    "data2 = pd.concat([train_split, test_split])\n",
    "data2 = pd.get_dummies(data2, dummy_na=True, columns=one_hot)\n",
    "\n",
    "train2 = data2.iloc[range(training_rows), :]\n",
    "test2 = data2.iloc[training_rows::, :]"
   ]
  },
  {
   "cell_type": "markdown",
   "metadata": {},
   "source": [
    "# Sampled GridSearch"
   ]
  },
  {
   "cell_type": "code",
   "execution_count": 47,
   "metadata": {
    "ExecuteTime": {
     "end_time": "2019-08-22T08:41:12.796753Z",
     "start_time": "2019-08-22T08:41:03.123453Z"
    }
   },
   "outputs": [],
   "source": [
    "X_train = train2.sample(frac = .05)\n",
    "X_test = test2.sample(frac = .05)\n",
    "response = target[X_train.index]"
   ]
  },
  {
   "cell_type": "code",
   "execution_count": 45,
   "metadata": {
    "ExecuteTime": {
     "end_time": "2019-08-22T07:44:58.628244Z",
     "start_time": "2019-08-22T07:44:58.589997Z"
    }
   },
   "outputs": [],
   "source": [
    "X_train = train2\n",
    "X_test = test2\n",
    "target = tr_raw['isFraud']"
   ]
  },
  {
   "cell_type": "code",
   "execution_count": 49,
   "metadata": {
    "ExecuteTime": {
     "end_time": "2019-08-22T09:34:25.306675Z",
     "start_time": "2019-08-22T09:23:22.467773Z"
    }
   },
   "outputs": [
    {
     "name": "stdout",
     "output_type": "stream",
     "text": [
      "Fitting 5 folds for each of 6 candidates, totalling 30 fits\n"
     ]
    },
    {
     "name": "stderr",
     "output_type": "stream",
     "text": [
      "[Parallel(n_jobs=4)]: Using backend LokyBackend with 4 concurrent workers.\n",
      "[Parallel(n_jobs=4)]: Done  30 out of  30 | elapsed: 10.2min finished\n"
     ]
    },
    {
     "data": {
      "text/plain": [
       "GridSearchCV(cv=TimeSeriesSplit(max_train_size=None, n_splits=5),\n",
       "             error_score='raise-deprecating',\n",
       "             estimator=XGBClassifier(base_score=0.5, booster='gbtree',\n",
       "                                     colsample_bylevel=1, colsample_bynode=1,\n",
       "                                     colsample_bytree=0.9, gamma=0,\n",
       "                                     learning_rate=0.1, max_delta_step=0,\n",
       "                                     max_depth=3, min_child_weight=1,\n",
       "                                     missing=None, n_estimators=600, n_jobs=1,\n",
       "                                     nthread=None, objective='b...\n",
       "                                     random_state=0, reg_alpha=0, reg_lambda=1,\n",
       "                                     scale_pos_weight=1, seed=None, silent=None,\n",
       "                                     subsample=1, tree_method='hist',\n",
       "                                     verbosity=1),\n",
       "             iid=False, n_jobs=4,\n",
       "             param_grid={'alpha': [0.005], 'gamma': [2, 3, 4, 5, 6, 7],\n",
       "                         'lambda': [0.1], 'learning_rate': [0.05],\n",
       "                         'max_depth': [9], 'min_child_weight': [1],\n",
       "                         'subsample': [0.9]},\n",
       "             pre_dispatch='2*n_jobs', refit=True, return_train_score=False,\n",
       "             scoring='roc_auc', verbose=1)"
      ]
     },
     "execution_count": 49,
     "metadata": {},
     "output_type": "execute_result"
    },
    {
     "name": "stdout",
     "output_type": "stream",
     "text": [
      "Best Parameters:\n",
      "{'alpha': 0.005, 'gamma': 4, 'lambda': 0.1, 'learning_rate': 0.05, 'max_depth': 9, 'min_child_weight': 1, 'subsample': 0.9}\n",
      "Best Score:\n",
      "0.9896654937269723\n"
     ]
    }
   ],
   "source": [
    "from sklearn.model_selection import GridSearchCV\n",
    "from xgboost import XGBClassifier\n",
    "from sklearn.metrics import roc_auc_score\n",
    "\n",
    "#Define hyperparameter tune grid\n",
    "param_grid = {\n",
    "        'min_child_weight': [1],\n",
    "        'gamma':[2, 3, 4, 5, 6, 7],\n",
    "        'subsample': [0.9],\n",
    "        'learning_rate': [.05],\n",
    "        'max_depth': [9],\n",
    "        'alpha': [0.005],\n",
    "        'lambda': [0.1]\n",
    "        }\n",
    "\n",
    "xgb = XGBClassifier(\n",
    "        n_estimators=600,\n",
    "        colsample_bytree=0.9,\n",
    "        tree_method='hist') \n",
    "#         reg_alpha=0.15,\n",
    "#         reg_lambda=0.85)\n",
    "\n",
    "cv = TimeSeriesSplit(n_splits=5)\n",
    "\n",
    "CV_object = GridSearchCV(estimator = xgb,\n",
    "                         param_grid = param_grid,\n",
    "                         n_jobs=4,\n",
    "                         scoring = 'roc_auc',\n",
    "                         cv = cv,\n",
    "                         iid=False,\n",
    "                         verbose=1)\n",
    "\n",
    "target = response\n",
    "CV_object.fit(X_train, target)\n",
    "\n",
    "print(\"Best Parameters:\")\n",
    "print(CV_object.best_params_)\n",
    "print(\"Best Score:\")\n",
    "print(CV_object.best_score_)\n"
   ]
  },
  {
   "cell_type": "code",
   "execution_count": 46,
   "metadata": {
    "ExecuteTime": {
     "end_time": "2019-08-22T07:55:03.401273Z",
     "start_time": "2019-08-22T07:45:02.923513Z"
    }
   },
   "outputs": [
    {
     "data": {
      "text/plain": [
       "XGBClassifier(base_score=0.5, booster='gbtree', colsample_bylevel=1,\n",
       "              colsample_bynode=1, colsample_bytree=0.9, gamma=4,\n",
       "              learning_rate=0.05, max_delta_step=0, max_depth=9,\n",
       "              min_child_weight=1, missing=None, n_estimators=500, n_jobs=1,\n",
       "              nthread=None, objective='binary:logistic', random_state=0,\n",
       "              reg_alpha=0.005, reg_lambda=0.1, scale_pos_weight=1, seed=None,\n",
       "              silent=None, subsample=0.9, tree_method='hist', verbosity=1)"
      ]
     },
     "execution_count": 46,
     "metadata": {},
     "output_type": "execute_result"
    },
    {
     "name": "stdout",
     "output_type": "stream",
     "text": [
      "predictions exported to csv file\n"
     ]
    },
    {
     "data": {
      "text/plain": [
       "<matplotlib.axes._subplots.AxesSubplot at 0x14a589eb8>"
      ]
     },
     "execution_count": 46,
     "metadata": {},
     "output_type": "execute_result"
    },
    {
     "data": {
      "image/png": "[encoded data removed]",
      "text/plain": [
       "<Figure size 432x288 with 1 Axes>"
      ]
     },
     "metadata": {
      "needs_background": "light"
     },
     "output_type": "display_data"
    }
   ],
   "source": [
    "from sklearn.model_selection import GridSearchCV\n",
    "from xgboost import XGBClassifier\n",
    "from sklearn.metrics import roc_auc_score\n",
    "\n",
    "xgb = XGBClassifier(\n",
    "        n_estimators=500,\n",
    "        gamma = 4,\n",
    "        max_depth=9,\n",
    "        learning_rate=0.05,\n",
    "        subsample=0.9,\n",
    "        colsample_bytree=0.9,\n",
    "        tree_method='hist', \n",
    "        reg_alpha=0.005,\n",
    "        reg_lambda=0.1,\n",
    "        min_child_weight = 1\n",
    "    )\n",
    "\n",
    "xgb.fit(X_train, target)\n",
    "val = xgb.predict_proba(X_test)[:,1]\n",
    "\n",
    "#create data frame of results\n",
    "test_result = pd.DataFrame({'TransactionID': X_test['TransactionID'], 'isFraud' : val})\n",
    "\n",
    "#Save to csv file in submission format\n",
    "test_result.to_csv('xgb_naive.csv',index=False)\n",
    "\n",
    "print(\"predictions exported to csv file\")\n",
    "\n",
    "\n",
    "import matplotlib.pylab as plt\n",
    "from matplotlib import pyplot\n",
    "from xgboost import plot_importance\n",
    "plot_importance(xgb, max_num_features=30,importance_type='gain') # top 10 most important features\n",
    "plt.show()\n"
   ]
  },
  {
   "cell_type": "code",
   "execution_count": null,
   "metadata": {},
   "outputs": [],
   "source": []
  }
 ],
 "metadata": {
  "kernelspec": {
   "display_name": "Python 3",
   "language": "python",
   "name": "python3"
  },
  "language_info": {
   "codemirror_mode": {
    "name": "ipython",
    "version": 3
   },
   "file_extension": ".py",
   "mimetype": "text/x-python",
   "name": "python",
   "nbconvert_exporter": "python",
   "pygments_lexer": "ipython3",
   "version": "3.7.3"
  },
  "toc": {
   "base_numbering": 1,
   "nav_menu": {},
   "number_sections": true,
   "sideBar": true,
   "skip_h1_title": false,
   "title_cell": "Table of Contents",
   "title_sidebar": "Contents",
   "toc_cell": false,
   "toc_position": {},
   "toc_section_display": true,
   "toc_window_display": false
  }
 },
 "nbformat": 4,
 "nbformat_minor": 2
}
